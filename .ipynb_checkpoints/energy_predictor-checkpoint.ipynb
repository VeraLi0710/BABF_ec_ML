{
 "cells": [
  {
   "cell_type": "code",
   "execution_count": 1,
   "id": "daacb279-97e3-4419-9a43-e525f443e710",
   "metadata": {},
   "outputs": [
    {
     "name": "stdout",
     "output_type": "stream",
     "text": [
      "* Running on local URL:  http://127.0.0.1:7860\n",
      "* Running on public URL: https://4e24912b8c989601a1.gradio.live\n",
      "\n",
      "This share link expires in 1 week. For free permanent hosting and GPU upgrades, run `gradio deploy` from the terminal in the working directory to deploy to Hugging Face Spaces (https://huggingface.co/spaces)\n"
     ]
    },
    {
     "data": {
      "text/html": [
       "<div><iframe src=\"https://4e24912b8c989601a1.gradio.live\" width=\"100%\" height=\"500\" allow=\"autoplay; camera; microphone; clipboard-read; clipboard-write;\" frameborder=\"0\" allowfullscreen></iframe></div>"
      ],
      "text/plain": [
       "<IPython.core.display.HTML object>"
      ]
     },
     "metadata": {},
     "output_type": "display_data"
    },
    {
     "data": {
      "text/plain": []
     },
     "execution_count": 1,
     "metadata": {},
     "output_type": "execute_result"
    }
   ],
   "source": [
    "import gradio as gr\n",
    "import pandas as pd\n",
    "import numpy as np\n",
    "import math\n",
    "import joblib\n",
    "\n",
    "# 加载模型\n",
    "model = joblib.load('rf_model.joblib')\n",
    "feature_cols = joblib.load('rf_features.joblib')\n",
    "\n",
    "def predict_energy(total_floor_area, estimated_floor_count, epc_score,\n",
    "                   wall_insulation, roof_type, roof_insulation, glazing_type,\n",
    "                   built_form, main_heat_type, main_fuel_type, lookup_age_band, wall_type):\n",
    "    U_wall = 0.37 if wall_insulation == 'insulated' else 1.7\n",
    "    U_roof = 0.25 if roof_insulation == 'insulated' else (0.28 if roof_type == 'flat' else 2.3)\n",
    "    U_floor = 0.25\n",
    "    U_glazing = 2.4 if glazing_type == 'double/triple' else (2.82 if glazing_type == 'secondary' else 5.75)\n",
    "    if roof_type == 'pitched':\n",
    "        roof_area = total_floor_area / math.cos(math.radians(30))\n",
    "    elif roof_type == 'flat':\n",
    "        roof_area = total_floor_area\n",
    "    else:\n",
    "        roof_area = 0\n",
    "    wall_area = total_floor_area * 2.1\n",
    "    floor_area = total_floor_area\n",
    "    glazing_area = total_floor_area * 0.18\n",
    "    delta_T = 18\n",
    "\n",
    "    Q_total = (\n",
    "        U_wall * wall_area +\n",
    "        U_roof * roof_area +\n",
    "        U_floor * floor_area +\n",
    "        U_glazing * glazing_area\n",
    "    ) * delta_T\n",
    "\n",
    "    rowdict = {\n",
    "        'epc_score': epc_score,\n",
    "        'estimated_floor_count': estimated_floor_count,\n",
    "        'wall_area': wall_area, 'roof_area': roof_area, 'floor_area': floor_area, 'glazing_area': glazing_area,\n",
    "        'u_value_wall': U_wall, 'u_value_roof': U_roof, 'u_value_floor': U_floor, 'u_value_glazing': U_glazing,\n",
    "        'Q_total': Q_total,\n",
    "        'wall_type': wall_type, 'wall_insulation': wall_insulation,\n",
    "        'roof_type': roof_type, 'roof_insulation': roof_insulation, 'glazing_type': glazing_type,\n",
    "        'built_form': built_form, 'main_heat_type': main_heat_type,\n",
    "        'main_fuel_type': main_fuel_type, 'lookup_age_band': lookup_age_band\n",
    "    }\n",
    "    df_input = pd.DataFrame([rowdict])\n",
    "    df_input = pd.get_dummies(df_input)\n",
    "    for c in feature_cols:\n",
    "        if c not in df_input.columns:\n",
    "            df_input[c] = 0\n",
    "    df_input = df_input[feature_cols]\n",
    "    pred = model.predict(df_input)[0]\n",
    "    return f\"预测年能耗约为: {pred:,.0f} kWh\\n主物理热损失Q_total为: {Q_total:,.1f}\"\n",
    "\n",
    "# Gradio界面\n",
    "iface = gr.Interface(\n",
    "    fn=predict_energy,\n",
    "    inputs=[\n",
    "        gr.Number(label=\"总建筑面积 (m²)\", value=60),\n",
    "        gr.Number(label=\"地上楼层数\", value=4),\n",
    "        gr.Number(label=\"EPC得分\", value=70),\n",
    "        gr.Radio(['insulated', 'uninsulated'], label=\"墙体是否保温\"),\n",
    "        gr.Radio(['pitched', 'flat', 'room in roof', 'another dwelling above'], label=\"屋顶类型\"),\n",
    "        gr.Radio(['insulated', 'uninsulated', 'room in roof', 'another dwelling above'], label=\"屋顶是否保温\"),\n",
    "        gr.Radio(['single/partial', 'double/triple', 'secondary'], label=\"窗户类型\"),\n",
    "        gr.Radio(['end-terrace','mid-terrace'], label=\"房屋结构\"),\n",
    "        gr.Radio(['boiler', 'communal', 'room/storage heaters', 'heat pump', 'other', 'no heating system'], label=\"供热类型\"),\n",
    "        gr.Radio(['mains gas', 'electricity', 'other', 'no heating system'], label=\"主要燃料\"),\n",
    "        gr.Radio(['pre-1920', '1930-1949', '1950-1966', '1967-1982', '1983-1995', '1996-2011', '2012-onwards'], label=\"年代\"),\n",
    "        gr.Radio(['solid','cavity'], label=\"墙体类型\")\n",
    "    ],\n",
    "    outputs=gr.Textbox(label=\"预测结果\"),\n",
    "    title=\"能耗灰盒预测工具\"\n",
    ")\n",
    "\n",
    "iface.launch(share=True)  # 这样结束后会自动给你一个可点击的公网链接"
   ]
  },
  {
   "cell_type": "code",
   "execution_count": null,
   "id": "8aef5296-e4ca-4ef8-8a97-5c422cee74e5",
   "metadata": {},
   "outputs": [],
   "source": []
  }
 ],
 "metadata": {
  "kernelspec": {
   "display_name": "Python (base)",
   "language": "python",
   "name": "base"
  },
  "language_info": {
   "codemirror_mode": {
    "name": "ipython",
    "version": 3
   },
   "file_extension": ".py",
   "mimetype": "text/x-python",
   "name": "python",
   "nbconvert_exporter": "python",
   "pygments_lexer": "ipython3",
   "version": "3.11.9"
  }
 },
 "nbformat": 4,
 "nbformat_minor": 5
}
